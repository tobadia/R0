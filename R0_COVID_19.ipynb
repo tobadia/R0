{
  "nbformat": 4,
  "nbformat_minor": 0,
  "metadata": {
    "colab": {
      "name": "R0_COVID_19.ipynb",
      "provenance": [],
      "toc_visible": true
    },
    "kernelspec": {
      "name": "ir",
      "display_name": "R"
    }
  },
  "cells": [
    {
      "cell_type": "markdown",
      "metadata": {
        "id": "XuYDyZgzRN9J",
        "colab_type": "text"
      },
      "source": [
        "# Description\n",
        "\n",
        "This Jupyter Notebook contains the code required to load and process an example dataset with the [R<sub>0</sub>](https://cran.r-project.org/web/packages/R0/index.html) package for R.\n",
        "\n",
        "This notebook is intended to be run in [Google Colab](https://colab.research.google.com) with an R kernel."
      ]
    },
    {
      "cell_type": "code",
      "metadata": {
        "id": "nwKS21RVRFiN",
        "colab_type": "code",
        "colab": {
          "base_uri": "https://localhost:8080/",
          "height": 51
        },
        "outputId": "ecd48888-d117-4393-cd28-0e7f24b81b0e"
      },
      "source": [
        "install.packages(\"R0\", quiet=TRUE) # Install R0 package\n",
        "library(R0) # Load R0 package"
      ],
      "execution_count": 1,
      "outputs": [
        {
          "output_type": "stream",
          "text": [
            "Loading required package: MASS\n",
            "\n"
          ],
          "name": "stderr"
        }
      ]
    },
    {
      "cell_type": "code",
      "metadata": {
        "id": "DX8qafzJRIy-",
        "colab_type": "code",
        "colab": {}
      },
      "source": [
        "# Load dataset as a named vector\n",
        "incid <- read.table(\"/cases_averaged.csv\", header=T, sep = \",\")\n",
        "incid <- setNames(incid$x, row.names(incid))\n",
        "\n",
        "# Clean Data\n",
        "first_case_index <- match(incid[incid>0][1], incid) # Find first date that the number of cases was >0\n",
        "incid <- round(incid[-(1:first_case_index-1)]) # Remove entries before first case\n",
        "incid <- round(incid) # Round case numbers to the nearest unit\n",
        "\n",
        "# Use a not-too-bad generation time\n",
        "mGT <- generation.time(\"gamma\", val = c(5, 10))\n",
        "\n",
        "# Estimate R and GT jointly from data, assuming Poisson distirbution and starting at first non-0 day\n",
        "est.R <- estimate.R(epid = incid, GT = mGT, methods = c(\"ML\"), checked = T, unknown.GT =T, begin = \"2020-03-14\", end = \"2020-07-16\")"
      ],
      "execution_count": 7,
      "outputs": []
    },
    {
      "cell_type": "code",
      "metadata": {
        "id": "M-sVgUZ4UHtC",
        "colab_type": "code",
        "colab": {
          "base_uri": "https://localhost:8080/",
          "height": 51
        },
        "outputId": "d9082071-4765-4dbc-e8bc-b283b7edc04c"
      },
      "source": [
        "est.R"
      ],
      "execution_count": 8,
      "outputs": [
        {
          "output_type": "display_data",
          "data": {
            "text/plain": [
              "Reproduction number estimate using  Maximum Likelihood  method.\n",
              "R :  1.14747[ 1.129204 , 1.165909 ]\n"
            ]
          },
          "metadata": {
            "tags": []
          }
        }
      ]
    },
    {
      "cell_type": "code",
      "metadata": {
        "id": "MnZuLSniRIt5",
        "colab_type": "code",
        "colab": {
          "base_uri": "https://localhost:8080/",
          "height": 663
        },
        "outputId": "f8200553-05c7-4a70-9f7b-c8ab06817e03"
      },
      "source": [
        "print(incid)"
      ],
      "execution_count": 9,
      "outputs": [
        {
          "output_type": "stream",
          "text": [
            "2020-03-11 2020-03-12 2020-03-13 2020-03-14 2020-03-15 2020-03-16 2020-03-17 \n",
            "         5          0          0          6         12         29         39 \n",
            "2020-03-18 2020-03-19 2020-03-20 2020-03-21 2020-03-22 2020-03-23 2020-03-24 \n",
            "        46         78         83        131          2          3          4 \n",
            "2020-03-25 2020-03-26 2020-03-27 2020-03-28 2020-03-29 2020-03-30 2020-03-31 \n",
            "         6          8          9         10         12         13         16 \n",
            "2020-04-01 2020-04-02 2020-04-03 2020-04-04 2020-04-05 2020-04-06 2020-04-07 \n",
            "        18         19         23         25         27         30         33 \n",
            "2020-04-08 2020-04-09 2020-04-10 2020-04-11 2020-04-12 2020-04-13 2020-04-14 \n",
            "        35         40         45         48         52         55         59 \n",
            "2020-04-15 2020-04-16 2020-04-17 2020-04-18 2020-04-19 2020-04-20 2020-04-21 \n",
            "        61         64         67         69         72         75         78 \n",
            "2020-04-22 2020-04-23 2020-04-24 2020-04-25 2020-04-26 2020-04-27 2020-04-28 \n",
            "        82          0         86         89         89         94         96 \n",
            "2020-04-29 2020-04-30 2020-05-01 2020-05-02 2020-05-03 2020-05-04 2020-05-05 \n",
            "        99        102        104        107        112        116        119 \n",
            "2020-05-06 2020-05-07 2020-05-08 2020-05-09 2020-05-10 2020-05-11 2020-05-12 \n",
            "       124        128        133        138        142        145        149 \n",
            "2020-05-13 2020-05-14 2020-05-15 2020-05-16 2020-05-17 2020-05-18 2020-05-19 \n",
            "       154        157        163        167        172        173        178 \n",
            "2020-05-20 2020-05-21 2020-05-22 2020-05-23 2020-05-24 2020-05-25 2020-05-26 \n",
            "       182        192        195        201        208        213        220 \n",
            "2020-05-27 2020-05-28 2020-05-29 2020-05-30 2020-05-31 2020-06-01 2020-06-02 \n",
            "       230        236        243        250        255        264        274 \n",
            "2020-06-03 2020-06-04 2020-06-05 2020-06-06 2020-06-07 2020-06-08 2020-06-09 \n",
            "       276        277        280        285        295        301        308 \n",
            "2020-06-10 2020-06-11 2020-06-12 2020-06-13 2020-06-14 2020-06-15 2020-06-16 \n",
            "       315        323        336        349        362        377        386 \n",
            "2020-06-17 2020-06-18 2020-06-19 2020-06-20 2020-06-21 2020-06-22 2020-06-23 \n",
            "       396        402        415        426        435        441        448 \n",
            "2020-06-24 2020-06-25 2020-06-26 2020-06-27 2020-06-28 2020-06-29 2020-06-30 \n",
            "       451        465        481        495        508        514        539 \n",
            "2020-07-01 2020-07-02 2020-07-03 2020-07-04 2020-07-05 2020-07-06 2020-07-07 \n",
            "       551        565        581        607        621        637        650 \n",
            "2020-07-08 2020-07-09 2020-07-10 2020-07-11 2020-07-12 2020-07-13 2020-07-14 \n",
            "       664        681        713        732        753        777        805 \n",
            "2020-07-15 2020-07-16 \n",
            "       830        856 \n"
          ],
          "name": "stdout"
        }
      ]
    },
    {
      "cell_type": "code",
      "metadata": {
        "id": "2fWlRCs4UFkp",
        "colab_type": "code",
        "colab": {
          "base_uri": "https://localhost:8080/",
          "height": 437
        },
        "outputId": "8fd8ebcb-6dc4-439e-8942-ae8e6d024d51"
      },
      "source": [
        "plot(incid)"
      ],
      "execution_count": 10,
      "outputs": [
        {
          "output_type": "display_data",
          "data": {
            "image/png": "[encoded data removed]",
            "text/plain": [
              "plot without title"
            ]
          },
          "metadata": {
            "tags": [],
            "image/png": {
              "width": 420,
              "height": 420
            },
            "text/plain": {
              "width": 420,
              "height": 420
            }
          }
        }
      ]
    },
    {
      "cell_type": "code",
      "metadata": {
        "id": "_xMHq__CRK5p",
        "colab_type": "code",
        "colab": {
          "base_uri": "https://localhost:8080/",
          "height": 425
        },
        "outputId": "015465dc-a816-4246-db0f-639188bf3af7"
      },
      "source": [
        "est.R$GT"
      ],
      "execution_count": 11,
      "outputs": [
        {
          "output_type": "display_data",
          "data": {
            "text/plain": [
              "Discretized Generation Time distribution\n",
              "mean: 8.752925 , sd: 11.63884 \n",
              "  [1] 0.000000e+00 2.350397e-01 1.265864e-01 8.809366e-02 6.733417e-02\n",
              "  [6] 5.410405e-02 4.485297e-02 3.798902e-02 3.268218e-02 2.845345e-02\n",
              " [11] 2.500525e-02 2.214207e-02 1.972970e-02 1.767262e-02 1.590087e-02\n",
              " [16] 1.436189e-02 1.301538e-02 1.182987e-02 1.078038e-02 9.846845e-03\n",
              " [21] 9.012912e-03 8.265129e-03 7.592323e-03 6.985126e-03 6.435626e-03\n",
              " [26] 5.937095e-03 5.483771e-03 5.070693e-03 4.693565e-03 4.348649e-03\n",
              " [31] 4.032680e-03 3.742791e-03 3.476456e-03 3.231442e-03 3.005768e-03\n",
              " [36] 2.797671e-03 2.605577e-03 2.428079e-03 2.263913e-03 2.111945e-03\n",
              " [41] 1.971150e-03 1.840605e-03 1.719472e-03 1.606996e-03 1.502486e-03\n",
              " [46] 1.405318e-03 1.314922e-03 1.230776e-03 1.152407e-03 1.079379e-03\n",
              " [51] 1.011295e-03 9.477898e-04 8.885289e-04 8.332045e-04 7.815337e-04\n",
              " [56] 7.332558e-04 6.881309e-04 6.459376e-04 6.064714e-04 5.695435e-04\n",
              " [61] 5.349795e-04 5.026179e-04 4.723090e-04 4.439145e-04 4.173059e-04\n",
              " [66] 3.923641e-04 3.689785e-04 3.470466e-04 3.264728e-04 3.071685e-04\n",
              " [71] 2.890512e-04 2.720442e-04 2.560759e-04 2.410798e-04 2.269939e-04\n",
              " [76] 2.137602e-04 2.013249e-04 1.896377e-04 1.786515e-04 1.683225e-04\n",
              " [81] 1.586098e-04 1.494751e-04 1.408825e-04 1.327987e-04 1.251924e-04\n",
              " [86] 1.180343e-04 1.112971e-04 1.049550e-04 9.898414e-05 9.336200e-05\n",
              " [91] 8.806752e-05 8.308099e-05 7.838391e-05 7.395893e-05 6.978981e-05\n",
              " [96] 6.586129e-05 6.215908e-05 5.866976e-05 5.538072e-05 5.228016e-05\n",
              "[101] 4.935696e-05 4.660070e-05 4.400160e-05 4.155045e-05 3.923862e-05\n",
              "[106] 3.705799e-05\n"
            ]
          },
          "metadata": {
            "tags": []
          }
        }
      ]
    },
    {
      "cell_type": "code",
      "metadata": {
        "id": "rdc7NezUTZtr",
        "colab_type": "code",
        "colab": {}
      },
      "source": [
        ""
      ],
      "execution_count": null,
      "outputs": []
    }
  ]
}
